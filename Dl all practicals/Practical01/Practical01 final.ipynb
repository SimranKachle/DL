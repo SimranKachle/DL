{
 "cells": [
  {
   "cell_type": "code",
   "execution_count": 1,
   "id": "ced1ed6d",
   "metadata": {},
   "outputs": [],
   "source": [
    "import pandas as pd\n",
    "import numpy as np\n",
    "from sklearn.model_selection import train_test_split\n",
    "from sklearn.preprocessing import StandardScaler\n",
    "from keras.models import Sequential\n",
    "from keras.layers import Dense\n",
    "import time\n",
    "\n"
   ]
  },
  {
   "cell_type": "code",
   "execution_count": 2,
   "id": "abb28908",
   "metadata": {},
   "outputs": [],
   "source": [
    "# Reading the dataset\n",
    "data = pd.read_csv(\"Boston (1).csv\")\n",
    "\n"
   ]
  },
  {
   "cell_type": "code",
   "execution_count": 3,
   "id": "673f6b5c",
   "metadata": {},
   "outputs": [],
   "source": [
    "# Preprocessing the dataset\n",
    "x = data.drop('MEDV', axis=1)\n",
    "y = data['MEDV']\n",
    "x_train, x_test, y_train, y_test = train_test_split(x, y, test_size=0.2, random_state=1)\n",
    "scaler = StandardScaler()\n",
    "x_train = scaler.fit_transform(x_train)\n",
    "x_test = scaler.transform(x_test)\n",
    "\n"
   ]
  },
  {
   "cell_type": "code",
   "execution_count": 4,
   "id": "7afaf481",
   "metadata": {},
   "outputs": [
    {
     "name": "stdout",
     "output_type": "stream",
     "text": [
      "Model: \"sequential\"\n",
      "_________________________________________________________________\n",
      " Layer (type)                Output Shape              Param #   \n",
      "=================================================================\n",
      " dense_1 (Dense)             (None, 128)               1792      \n",
      "                                                                 \n",
      " dense_2 (Dense)             (None, 64)                8256      \n",
      "                                                                 \n",
      " dense_output (Dense)        (None, 1)                 65        \n",
      "                                                                 \n",
      "=================================================================\n",
      "Total params: 10,113\n",
      "Trainable params: 10,113\n",
      "Non-trainable params: 0\n",
      "_________________________________________________________________\n"
     ]
    }
   ],
   "source": [
    "# Model definition\n",
    "model = Sequential()\n",
    "model.add(Dense(128,input_shape=(13,), activation='relu', name='dense_1'))\n",
    "model.add(Dense(64, activation='relu', name='dense_2'))\n",
    "model.add(Dense(1, activation='linear', name='dense_output'))\n",
    "model.compile(optimizer='adam', loss='mse', metrics=['mae'])\n",
    "model.summary()\n",
    "\n"
   ]
  },
  {
   "cell_type": "code",
   "execution_count": 5,
   "id": "ec7649bc",
   "metadata": {},
   "outputs": [
    {
     "name": "stderr",
     "output_type": "stream",
     "text": [
      "C:\\Users\\Manpreet\\AppData\\Local\\Programs\\Python\\Python310\\lib\\site-packages\\keras\\engine\\data_adapter.py:1696: FutureWarning: The behavior of `series[i:j]` with an integer-dtype index is deprecated. In a future version, this will be treated as *label-based* indexing, consistent with e.g. `series[i]` lookups. To retain the old behavior, use `series.iloc[i:j]`. To get the future behavior, use `series.loc[i:j]`.\n",
      "  return t[start:end]\n"
     ]
    },
    {
     "name": "stdout",
     "output_type": "stream",
     "text": [
      "Epoch 1/50\n",
      "11/11 [==============================] - 2s 57ms/step - loss: 565.8351 - mae: 22.0609 - val_loss: 505.2177 - val_mae: 20.5417\n",
      "Epoch 2/50\n",
      "11/11 [==============================] - 0s 10ms/step - loss: 495.7388 - mae: 20.5044 - val_loss: 433.9076 - val_mae: 18.8445\n",
      "Epoch 3/50\n",
      "11/11 [==============================] - 0s 10ms/step - loss: 410.9783 - mae: 18.3629 - val_loss: 335.6758 - val_mae: 16.3804\n",
      "Epoch 4/50\n",
      "11/11 [==============================] - 0s 10ms/step - loss: 298.0938 - mae: 15.2658 - val_loss: 221.8341 - val_mae: 13.0288\n",
      "Epoch 5/50\n",
      "11/11 [==============================] - 0s 9ms/step - loss: 181.9037 - mae: 11.3716 - val_loss: 120.3659 - val_mae: 9.2708\n",
      "Epoch 6/50\n",
      "11/11 [==============================] - 0s 11ms/step - loss: 95.1597 - mae: 7.6998 - val_loss: 69.2209 - val_mae: 6.4594\n",
      "Epoch 7/50\n",
      "11/11 [==============================] - 0s 12ms/step - loss: 59.5758 - mae: 5.9317 - val_loss: 53.2482 - val_mae: 5.3299\n",
      "Epoch 8/50\n",
      "11/11 [==============================] - 0s 9ms/step - loss: 46.2932 - mae: 5.1576 - val_loss: 43.3001 - val_mae: 4.7342\n",
      "Epoch 9/50\n",
      "11/11 [==============================] - 0s 9ms/step - loss: 36.2054 - mae: 4.5021 - val_loss: 36.2645 - val_mae: 4.2750\n",
      "Epoch 10/50\n",
      "11/11 [==============================] - 0s 10ms/step - loss: 29.7231 - mae: 3.9953 - val_loss: 32.0576 - val_mae: 3.9388\n",
      "Epoch 11/50\n",
      "11/11 [==============================] - 0s 12ms/step - loss: 26.1620 - mae: 3.7623 - val_loss: 29.0074 - val_mae: 3.7417\n",
      "Epoch 12/50\n",
      "11/11 [==============================] - 0s 10ms/step - loss: 24.1316 - mae: 3.6231 - val_loss: 27.5558 - val_mae: 3.6579\n",
      "Epoch 13/50\n",
      "11/11 [==============================] - 0s 9ms/step - loss: 22.7501 - mae: 3.5024 - val_loss: 26.3386 - val_mae: 3.5986\n",
      "Epoch 14/50\n",
      "11/11 [==============================] - 0s 10ms/step - loss: 21.5419 - mae: 3.3880 - val_loss: 25.3931 - val_mae: 3.5090\n",
      "Epoch 15/50\n",
      "11/11 [==============================] - 0s 11ms/step - loss: 20.5900 - mae: 3.2654 - val_loss: 24.7838 - val_mae: 3.4415\n",
      "Epoch 16/50\n",
      "11/11 [==============================] - 0s 11ms/step - loss: 19.7209 - mae: 3.1976 - val_loss: 23.9471 - val_mae: 3.4317\n",
      "Epoch 17/50\n",
      "11/11 [==============================] - 0s 10ms/step - loss: 19.1762 - mae: 3.2018 - val_loss: 23.1549 - val_mae: 3.4264\n",
      "Epoch 18/50\n",
      "11/11 [==============================] - 0s 9ms/step - loss: 18.5362 - mae: 3.1760 - val_loss: 22.7856 - val_mae: 3.3844\n",
      "Epoch 19/50\n",
      "11/11 [==============================] - 0s 12ms/step - loss: 17.9901 - mae: 3.0963 - val_loss: 22.4258 - val_mae: 3.3416\n",
      "Epoch 20/50\n",
      "11/11 [==============================] - 0s 10ms/step - loss: 17.3668 - mae: 3.0397 - val_loss: 21.9955 - val_mae: 3.3076\n",
      "Epoch 21/50\n",
      "11/11 [==============================] - 0s 10ms/step - loss: 16.8461 - mae: 2.9686 - val_loss: 21.6551 - val_mae: 3.2440\n",
      "Epoch 22/50\n",
      "11/11 [==============================] - 0s 9ms/step - loss: 16.4595 - mae: 2.9270 - val_loss: 20.9659 - val_mae: 3.2158\n",
      "Epoch 23/50\n",
      "11/11 [==============================] - 0s 11ms/step - loss: 15.8784 - mae: 2.8886 - val_loss: 20.5855 - val_mae: 3.1790\n",
      "Epoch 24/50\n",
      "11/11 [==============================] - 0s 12ms/step - loss: 15.6625 - mae: 2.8599 - val_loss: 20.1818 - val_mae: 3.1423\n",
      "Epoch 25/50\n",
      "11/11 [==============================] - 0s 12ms/step - loss: 15.3470 - mae: 2.8280 - val_loss: 20.0578 - val_mae: 3.1043\n",
      "Epoch 26/50\n",
      "11/11 [==============================] - 0s 11ms/step - loss: 15.0263 - mae: 2.7967 - val_loss: 19.4685 - val_mae: 3.0782\n",
      "Epoch 27/50\n",
      "11/11 [==============================] - 0s 11ms/step - loss: 14.6928 - mae: 2.7722 - val_loss: 19.1362 - val_mae: 3.0433\n",
      "Epoch 28/50\n",
      "11/11 [==============================] - 0s 9ms/step - loss: 14.3425 - mae: 2.7327 - val_loss: 18.8380 - val_mae: 2.9985\n",
      "Epoch 29/50\n",
      "11/11 [==============================] - 0s 11ms/step - loss: 14.2410 - mae: 2.7100 - val_loss: 18.6413 - val_mae: 2.9355\n",
      "Epoch 30/50\n",
      "11/11 [==============================] - 0s 11ms/step - loss: 13.8475 - mae: 2.6620 - val_loss: 18.2919 - val_mae: 2.9231\n",
      "Epoch 31/50\n",
      "11/11 [==============================] - 0s 11ms/step - loss: 13.5935 - mae: 2.6502 - val_loss: 18.0702 - val_mae: 2.9143\n",
      "Epoch 32/50\n",
      "11/11 [==============================] - 0s 10ms/step - loss: 13.4828 - mae: 2.6287 - val_loss: 17.9549 - val_mae: 2.8987\n",
      "Epoch 33/50\n",
      "11/11 [==============================] - 0s 11ms/step - loss: 13.1420 - mae: 2.6107 - val_loss: 17.7496 - val_mae: 2.8778\n",
      "Epoch 34/50\n",
      "11/11 [==============================] - 0s 14ms/step - loss: 12.9297 - mae: 2.5837 - val_loss: 17.6157 - val_mae: 2.8595\n",
      "Epoch 35/50\n",
      "11/11 [==============================] - 0s 12ms/step - loss: 12.6909 - mae: 2.5530 - val_loss: 17.4783 - val_mae: 2.8376\n",
      "Epoch 36/50\n",
      "11/11 [==============================] - 0s 9ms/step - loss: 12.5370 - mae: 2.5543 - val_loss: 17.2150 - val_mae: 2.8560\n",
      "Epoch 37/50\n",
      "11/11 [==============================] - 0s 9ms/step - loss: 12.2971 - mae: 2.5270 - val_loss: 16.8456 - val_mae: 2.7889\n",
      "Epoch 38/50\n",
      "11/11 [==============================] - 0s 10ms/step - loss: 12.1475 - mae: 2.4809 - val_loss: 16.7655 - val_mae: 2.7303\n",
      "Epoch 39/50\n",
      "11/11 [==============================] - 0s 10ms/step - loss: 12.0080 - mae: 2.4460 - val_loss: 16.6682 - val_mae: 2.7188\n",
      "Epoch 40/50\n",
      "11/11 [==============================] - 0s 11ms/step - loss: 11.9056 - mae: 2.4345 - val_loss: 16.5498 - val_mae: 2.7171\n",
      "Epoch 41/50\n",
      "11/11 [==============================] - 0s 11ms/step - loss: 11.6571 - mae: 2.4115 - val_loss: 16.3430 - val_mae: 2.6938\n",
      "Epoch 42/50\n",
      "11/11 [==============================] - 0s 11ms/step - loss: 11.5978 - mae: 2.4155 - val_loss: 16.1163 - val_mae: 2.7270\n",
      "Epoch 43/50\n",
      "11/11 [==============================] - 0s 11ms/step - loss: 11.3813 - mae: 2.3886 - val_loss: 16.3694 - val_mae: 2.7131\n",
      "Epoch 44/50\n",
      "11/11 [==============================] - 0s 11ms/step - loss: 11.2605 - mae: 2.3941 - val_loss: 16.1769 - val_mae: 2.7421\n",
      "Epoch 45/50\n",
      "11/11 [==============================] - 0s 11ms/step - loss: 11.1749 - mae: 2.3815 - val_loss: 15.9774 - val_mae: 2.6741\n",
      "Epoch 46/50\n",
      "11/11 [==============================] - 0s 11ms/step - loss: 10.9312 - mae: 2.3449 - val_loss: 15.8392 - val_mae: 2.6676\n",
      "Epoch 47/50\n",
      "11/11 [==============================] - 0s 12ms/step - loss: 10.7856 - mae: 2.3322 - val_loss: 15.7001 - val_mae: 2.6723\n",
      "Epoch 48/50\n",
      "11/11 [==============================] - 0s 8ms/step - loss: 10.7168 - mae: 2.3287 - val_loss: 15.5634 - val_mae: 2.6267\n",
      "Epoch 49/50\n",
      "11/11 [==============================] - 0s 9ms/step - loss: 10.6844 - mae: 2.3305 - val_loss: 15.9938 - val_mae: 2.5960\n",
      "Epoch 50/50\n",
      "11/11 [==============================] - 0s 11ms/step - loss: 10.4717 - mae: 2.3070 - val_loss: 15.5493 - val_mae: 2.6545\n",
      "Training time: 8.66847825050354\n"
     ]
    }
   ],
   "source": [
    "# Training the model\n",
    "start_time = time.time()\n",
    "history = model.fit(x_train, y_train, epochs=50, batch_size=32, validation_split=0.2)\n",
    "train_time = time.time() - start_time\n",
    "print(\"Training time:\", train_time)\n",
    "\n"
   ]
  },
  {
   "cell_type": "code",
   "execution_count": 6,
   "id": "2f3aaf10",
   "metadata": {},
   "outputs": [
    {
     "name": "stdout",
     "output_type": "stream",
     "text": [
      "4/4 [==============================] - 0s 5ms/step - loss: 11.0315 - mae: 2.6286\n",
      "Testing time: 0.20047211647033691\n",
      "MSE: 11.031547546386719\n",
      "MAE: 2.628586769104004\n"
     ]
    }
   ],
   "source": [
    "# Evaluating the model\n",
    "start_time = time.time()\n",
    "mse, mae = model.evaluate(x_test, y_test)\n",
    "test_time = time.time() - start_time\n",
    "print(\"Testing time:\", test_time)\n",
    "print(\"MSE:\", mse)\n",
    "print(\"MAE:\", mae)\n",
    "\n"
   ]
  },
  {
   "cell_type": "code",
   "execution_count": 7,
   "id": "7533612d",
   "metadata": {},
   "outputs": [
    {
     "name": "stdout",
     "output_type": "stream",
     "text": [
      "4/4 [==============================] - 0s 4ms/step\n"
     ]
    }
   ],
   "source": [
    "y_pred = model.predict(x_test[:])"
   ]
  },
  {
   "cell_type": "code",
   "execution_count": 8,
   "id": "cf39c301",
   "metadata": {},
   "outputs": [
    {
     "data": {
      "text/html": [
       "<div>\n",
       "<style scoped>\n",
       "    .dataframe tbody tr th:only-of-type {\n",
       "        vertical-align: middle;\n",
       "    }\n",
       "\n",
       "    .dataframe tbody tr th {\n",
       "        vertical-align: top;\n",
       "    }\n",
       "\n",
       "    .dataframe thead th {\n",
       "        text-align: right;\n",
       "    }\n",
       "</style>\n",
       "<table border=\"1\" class=\"dataframe\">\n",
       "  <thead>\n",
       "    <tr style=\"text-align: right;\">\n",
       "      <th></th>\n",
       "      <th>actual</th>\n",
       "      <th>predicted</th>\n",
       "    </tr>\n",
       "  </thead>\n",
       "  <tbody>\n",
       "    <tr>\n",
       "      <th>307</th>\n",
       "      <td>28.2</td>\n",
       "      <td>28.143242</td>\n",
       "    </tr>\n",
       "    <tr>\n",
       "      <th>343</th>\n",
       "      <td>23.9</td>\n",
       "      <td>21.904482</td>\n",
       "    </tr>\n",
       "    <tr>\n",
       "      <th>47</th>\n",
       "      <td>16.6</td>\n",
       "      <td>19.517384</td>\n",
       "    </tr>\n",
       "    <tr>\n",
       "      <th>67</th>\n",
       "      <td>22.0</td>\n",
       "      <td>22.411589</td>\n",
       "    </tr>\n",
       "    <tr>\n",
       "      <th>362</th>\n",
       "      <td>20.8</td>\n",
       "      <td>24.644327</td>\n",
       "    </tr>\n",
       "    <tr>\n",
       "      <th>...</th>\n",
       "      <td>...</td>\n",
       "      <td>...</td>\n",
       "    </tr>\n",
       "    <tr>\n",
       "      <th>92</th>\n",
       "      <td>22.9</td>\n",
       "      <td>23.461302</td>\n",
       "    </tr>\n",
       "    <tr>\n",
       "      <th>224</th>\n",
       "      <td>44.8</td>\n",
       "      <td>43.697948</td>\n",
       "    </tr>\n",
       "    <tr>\n",
       "      <th>110</th>\n",
       "      <td>21.7</td>\n",
       "      <td>19.912043</td>\n",
       "    </tr>\n",
       "    <tr>\n",
       "      <th>426</th>\n",
       "      <td>10.2</td>\n",
       "      <td>17.653141</td>\n",
       "    </tr>\n",
       "    <tr>\n",
       "      <th>443</th>\n",
       "      <td>15.4</td>\n",
       "      <td>13.738324</td>\n",
       "    </tr>\n",
       "  </tbody>\n",
       "</table>\n",
       "<p>102 rows × 2 columns</p>\n",
       "</div>"
      ],
      "text/plain": [
       "     actual  predicted\n",
       "307    28.2  28.143242\n",
       "343    23.9  21.904482\n",
       "47     16.6  19.517384\n",
       "67     22.0  22.411589\n",
       "362    20.8  24.644327\n",
       "..      ...        ...\n",
       "92     22.9  23.461302\n",
       "224    44.8  43.697948\n",
       "110    21.7  19.912043\n",
       "426    10.2  17.653141\n",
       "443    15.4  13.738324\n",
       "\n",
       "[102 rows x 2 columns]"
      ]
     },
     "execution_count": 8,
     "metadata": {},
     "output_type": "execute_result"
    }
   ],
   "source": [
    "p=[]\n",
    "for i in y_pred:\n",
    " p.append(list(i)[0])\n",
    "d = pd.DataFrame({'actual':y_test,'predicted':p})\n",
    "d"
   ]
  },
  {
   "cell_type": "code",
   "execution_count": 9,
   "id": "ce5c4c0a",
   "metadata": {},
   "outputs": [
    {
     "data": {
      "image/png": "[encoded data removed]",
      "text/plain": [
       "<Figure size 640x480 with 1 Axes>"
      ]
     },
     "metadata": {},
     "output_type": "display_data"
    }
   ],
   "source": [
    "# Plotting the training history\n",
    "import matplotlib.pyplot as plt\n",
    "plt.plot(history.history['loss'])\n",
    "plt.plot(history.history['val_loss'])\n",
    "plt.title('Model Loss')\n",
    "plt.ylabel('Loss')\n",
    "plt.xlabel('Epoch')\n",
    "plt.legend(['Train', 'Test'], loc='upper left')\n",
    "plt.show()\n"
   ]
  },
  {
   "cell_type": "code",
   "execution_count": null,
   "id": "70ca0c36",
   "metadata": {},
   "outputs": [],
   "source": []
  },
  {
   "cell_type": "code",
   "execution_count": null,
   "id": "f456e9a0",
   "metadata": {},
   "outputs": [],
   "source": []
  },
  {
   "cell_type": "code",
   "execution_count": null,
   "id": "cf295b33",
   "metadata": {},
   "outputs": [
    {
     "name": "stdout",
     "output_type": "stream",
     "text": [
      "Enter the values of 13 features separated by commas: 1.3547200000000001,0.0,8.14,0,0.538,6.072,100.0,4.175,4,307.0,21.0,376.73,13.04\n",
      "1/1 [==============================] - 0s 96ms/step\n"
     ]
    },
    {
     "name": "stderr",
     "output_type": "stream",
     "text": [
      "C:\\Users\\Manpreet\\AppData\\Local\\Programs\\Python\\Python310\\lib\\site-packages\\sklearn\\base.py:450: UserWarning: X does not have valid feature names, but StandardScaler was fitted with feature names\n",
      "  warnings.warn(\n"
     ]
    },
    {
     "name": "stdout",
     "output_type": "stream",
     "text": [
      "Predicted MEDV: 16.370308\n",
      "Prediction time: 0.200028657913208\n",
      "Enter the values of 13 features separated by commas: /n\n",
      "Please enter numerical values only.\n",
      "Enter the values of 13 features separated by commas: \\n\n",
      "Please enter numerical values only.\n",
      "Enter the values of 13 features separated by commas: \n",
      "Please enter numerical values only.\n"
     ]
    }
   ],
   "source": [
    "# Predicting using dynamic input from the user\n",
    "while True:\n",
    "    try:\n",
    "        user_input = [float(x.strip()) for x in input(\"Enter the values of 13 features separated by commas: \").split(',')]\n",
    "        if len(user_input) != 13:\n",
    "            print(\"Please enter exactly 13 values.\")\n",
    "            continue\n",
    "        user_input = np.array(user_input).reshape(1, 13)\n",
    "        user_input_scaled = scaler.transform(user_input)  # Scale input features\n",
    "        \n",
    "        start_time = time.time()\n",
    "        prediction = model.predict(user_input_scaled)\n",
    "        pred_time = time.time() - start_time\n",
    "        \n",
    "        print(\"Predicted MEDV:\", prediction[0][0])\n",
    "        print(\"Prediction time:\", pred_time)\n",
    "    except ValueError:\n",
    "        print(\"Please enter numerical values only.\")\n",
    "    except KeyboardInterrupt:\n",
    "        print(\"\\nExiting...\")\n",
    "        break\n",
    "# 0.02731,0.0,7.07,0,0.469,6.421,78.9,4.9671,2,242.0,17.8,396.9,9.14"
   ]
  },
  {
   "cell_type": "code",
   "execution_count": null,
   "id": "6828b7c8",
   "metadata": {},
   "outputs": [],
   "source": []
  },
  {
   "cell_type": "code",
   "execution_count": null,
   "id": "c99eccbe",
   "metadata": {},
   "outputs": [],
   "source": []
  }
 ],
 "metadata": {
  "kernelspec": {
   "display_name": "Python 3 (ipykernel)",
   "language": "python",
   "name": "python3"
  },
  "language_info": {
   "codemirror_mode": {
    "name": "ipython",
    "version": 3
   },
   "file_extension": ".py",
   "mimetype": "text/x-python",
   "name": "python",
   "nbconvert_exporter": "python",
   "pygments_lexer": "ipython3",
   "version": "3.10.7"
  }
 },
 "nbformat": 4,
 "nbformat_minor": 5
}
